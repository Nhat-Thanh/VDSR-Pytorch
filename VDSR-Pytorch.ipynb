{
  "nbformat": 4,
  "nbformat_minor": 0,
  "metadata": {
    "colab": {
      "name": "VDSR-Pytorch.ipynb",
      "provenance": [],
      "collapsed_sections": [],
      "authorship_tag": "ABX9TyPlnCnWbhmkX9yiLsNODRUs",
      "include_colab_link": true
    },
    "kernelspec": {
      "name": "python3",
      "display_name": "Python 3"
    },
    "language_info": {
      "name": "python"
    },
    "accelerator": "GPU"
  },
  "cells": [
    {
      "cell_type": "markdown",
      "metadata": {
        "id": "view-in-github",
        "colab_type": "text"
      },
      "source": [
        "<a href=\"https://colab.research.google.com/github/Nhat-Thanh/VDSR-Pytorch/blob/main/VDSR-Pytorch.ipynb\" target=\"_parent\"><img src=\"https://colab.research.google.com/assets/colab-badge.svg\" alt=\"Open In Colab\"/></a>"
      ]
    },
    {
      "cell_type": "markdown",
      "metadata": {
        "id": "BSIOX9FkHia1"
      },
      "source": [
        "# **Mount drive**"
      ]
    },
    {
      "cell_type": "code",
      "execution_count": null,
      "metadata": {
        "id": "yCloRCJUo4ID"
      },
      "outputs": [],
      "source": [
        "from google.colab import drive\n",
        "drive.mount('/content/drive')"
      ]
    },
    {
      "cell_type": "markdown",
      "metadata": {
        "id": "0qFuIBWYtEA-"
      },
      "source": [
        "# **Train**"
      ]
    },
    {
      "cell_type": "code",
      "execution_count": null,
      "metadata": {
        "id": "LcU9BP0LoZ6y"
      },
      "outputs": [],
      "source": [
        "!git clone https://github.com/Nhat-Thanh/VDSR-Pytorch.git"
      ]
    },
    {
      "cell_type": "code",
      "execution_count": null,
      "metadata": {
        "id": "aCxs66QIs9JU"
      },
      "outputs": [],
      "source": [
        "%cd /content/VDSR-Pytorch/"
      ]
    },
    {
      "cell_type": "code",
      "execution_count": null,
      "metadata": {
        "id": "bcFmW-Z2xpt8"
      },
      "outputs": [],
      "source": [
        "!git pull"
      ]
    },
    {
      "cell_type": "code",
      "execution_count": null,
      "metadata": {
        "id": "E6ekTfh-ol5A"
      },
      "outputs": [],
      "source": [
        "# !rm -rf dataset/*.npy\n",
        "!python train.py  --epochs=80             \\\n",
        "                  --batch_size=64         \\\n",
        "                  --save-best-only=1      \\\n",
        "                  --ckpt-dir=\"checkpoint/\""
      ]
    },
    {
      "cell_type": "code",
      "source": [
        "# Test on Set5 with 3 scale factors\n",
        "!python test.py --scale=2\n",
        "!python test.py --scale=3\n",
        "!python test.py --scale=4"
      ],
      "metadata": {
        "colab": {
          "base_uri": "https://localhost:8080/"
        },
        "id": "HLO1-9Bk-61o",
        "outputId": "bae2bf59-0a87-4de5-b235-07ff8688534e"
      },
      "execution_count": null,
      "outputs": [
        {
          "output_type": "stream",
          "name": "stdout",
          "text": [
            "tensor(36.9849)\n",
            "tensor(34.2582)\n",
            "tensor(31.9323)\n"
          ]
        }
      ]
    },
    {
      "cell_type": "markdown",
      "source": [
        "#**Demo**"
      ],
      "metadata": {
        "id": "ASPTAtuaF8GF"
      }
    },
    {
      "cell_type": "code",
      "execution_count": null,
      "metadata": {
        "id": "6LEod8iiyE2t"
      },
      "outputs": [],
      "source": [
        "!python demo.py --image-path=\"dataset/test2.png\"  \\\n",
        "                --ckpt-path=\"checkpoint/VDSR.pt\"  \\\n",
        "                --scale=2"
      ]
    },
    {
      "cell_type": "markdown",
      "metadata": {
        "id": "mXR3GIR_RumX"
      },
      "source": [
        "# **Dataset files**"
      ]
    },
    {
      "cell_type": "code",
      "execution_count": null,
      "metadata": {
        "id": "Y5PICMo-ThER"
      },
      "outputs": [],
      "source": [
        "%%writefile dataset-files.sh\n",
        "\n",
        "OPTION=$1\n",
        "DATASET_DIR=\"/content/VDSR-Pytorch/dataset\"\n",
        "DRIVE_DIR=\"/content/drive/MyDrive/VDSR-Pytorch\"\n",
        "SUBSETS=(\"train\" \"validation\" \"test\")\n",
        "TYPE=(\"data\" \"labels\")\n",
        "\n",
        "mkdir -p ${DRIVE_DIR}\n",
        "for type in ${TYPE[*]}; do\n",
        "    for subset in ${SUBSETS[*]}; do\n",
        "        # copy all generated dataset files to your drive\n",
        "        if [ \"$OPTION\" == \"copy to drive\" ]; then\n",
        "            cp -vf ${DATASET_DIR}/${type}_${subset}.npy ${DRIVE_DIR}\n",
        "\n",
        "        # copy all saved dataset files from your drive to dataset directory\n",
        "        elif [ \"$OPTION\" == \"copy from drive\" ]; then\n",
        "            cp -vf ${DRIVE_DIR}/${type}_${subset}.npy   ${DATASET_DIR}\n",
        "        \n",
        "        # delete all generated dataset files in dataset directory\n",
        "        elif [ \"${OPTION}\" == \"remove\" ]; then\n",
        "            rm -vf ${DATASET_DIR}/${type}_${subset}.npy\n",
        "        fi\n",
        "    done\n",
        "done"
      ]
    },
    {
      "cell_type": "code",
      "execution_count": null,
      "metadata": {
        "id": "1n2cLVMYUDx3"
      },
      "outputs": [],
      "source": [
        "# !bash dataset-files.sh \"copy to drive\"\n",
        "# !bash dataset-files.sh \"copy from drive\"\n",
        "# !bash dataset-files.sh \"remove\""
      ]
    },
    {
      "cell_type": "markdown",
      "metadata": {
        "id": "APDYH1_F6Rum"
      },
      "source": [
        "# **Checkpoint**"
      ]
    },
    {
      "cell_type": "code",
      "execution_count": null,
      "metadata": {
        "id": "UJu5zeBgtdDL"
      },
      "outputs": [],
      "source": [
        "%%writefile ckpt.sh\n",
        "OPTION=$1\n",
        "\n",
        "DRIVE_DIR=\"/content/drive/MyDrive/VDSR-Pytorch\"\n",
        "SRC=\"/content/VDSR-Pytorch/checkpoint\"\n",
        "DES=\"${DRIVE_DIR}/checkpoint\"\n",
        "\n",
        "mkdir -p ${DRIVE_DIR}\n",
        "# remove all checkpoint files in sub-directories in checkpoint directory\n",
        "if [ \"${OPTION}\" == \"remove\" ]; then\n",
        "    rm -vrf ${SRC}/\n",
        "    mkdir -p ${SRC}/\n",
        "\n",
        "# copy all checkpoint directories to your drive\n",
        "elif [ \"${OPTION}\" == \"copy to drive\" ]; then\n",
        "    mkdir -p ${DES}\n",
        "    cp -vrf ${SRC}/. ${DES}/\n",
        "\n",
        "# copy all saved checkpoint files from your drive to checkpoint directory\n",
        "elif [ \"${OPTION}\" == \"copy from drive\" ]; then\n",
        "    mkdir -p ${SRC}\n",
        "    cp -vrf ${DES}/. ${SRC}/\n",
        "fi\n"
      ]
    },
    {
      "cell_type": "code",
      "execution_count": null,
      "metadata": {
        "id": "K3r9vXdj2pE3"
      },
      "outputs": [],
      "source": [
        "# !bash ckpt.sh \"copy from drive\"\n",
        "# !bash ckpt.sh \"copy to drive\"\n",
        "# !bash ckpt.sh \"remove\""
      ]
    }
  ]
}